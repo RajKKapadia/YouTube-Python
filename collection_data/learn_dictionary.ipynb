{
 "cells": [
  {
   "attachments": {},
   "cell_type": "markdown",
   "metadata": {},
   "source": [
    "# Dictionary\n",
    "\n",
    "Dictionary is a one of the four built in data types in Python for stroing collection of data.\n",
    "\n",
    "Note: As of Python version 3.7, dictionaries are `ordered`. In Python 3.6 and earlier, dictionaries are `unordered`."
   ]
  },
  {
   "attachments": {},
   "cell_type": "markdown",
   "metadata": {},
   "source": [
    "### Create a dictionary\n",
    "\n",
    "You can create a dictionary using `{ 'key': 'value' }` or by the constructor `dict()`."
   ]
  },
  {
   "cell_type": "code",
   "execution_count": 27,
   "metadata": {},
   "outputs": [],
   "source": [
    "d = {}\n",
    "d = dict()"
   ]
  },
  {
   "cell_type": "code",
   "execution_count": 28,
   "metadata": {},
   "outputs": [
    {
     "name": "stdout",
     "output_type": "stream",
     "text": [
      "{'key': 'value'}\n"
     ]
    }
   ],
   "source": [
    "d = {\n",
    "    'key': 'value'\n",
    "}\n",
    "\n",
    "print(d)"
   ]
  },
  {
   "attachments": {},
   "cell_type": "markdown",
   "metadata": {},
   "source": [
    "Odered/Unodered, Changeable, Does not allow duplicate keys"
   ]
  },
  {
   "cell_type": "code",
   "execution_count": 29,
   "metadata": {},
   "outputs": [
    {
     "name": "stdout",
     "output_type": "stream",
     "text": [
      "{'key': 'another value'}\n"
     ]
    }
   ],
   "source": [
    "d = {\n",
    "    'key': 'value',\n",
    "    'key': 'another value'\n",
    "}\n",
    "\n",
    "print(d)"
   ]
  },
  {
   "attachments": {},
   "cell_type": "markdown",
   "metadata": {},
   "source": [
    "### Length"
   ]
  },
  {
   "cell_type": "code",
   "execution_count": 30,
   "metadata": {},
   "outputs": [
    {
     "name": "stdout",
     "output_type": "stream",
     "text": [
      "1\n"
     ]
    }
   ],
   "source": [
    "print(len(d))"
   ]
  },
  {
   "attachments": {},
   "cell_type": "markdown",
   "metadata": {},
   "source": [
    "### Dictionary items data types\n",
    "\n",
    "* int\n",
    "* float\n",
    "* str\n",
    "* boolean"
   ]
  },
  {
   "cell_type": "code",
   "execution_count": 31,
   "metadata": {},
   "outputs": [
    {
     "name": "stdout",
     "output_type": "stream",
     "text": [
      "{'one': 1, 2: 'two', 'three': 3, 'four': True, 'fifth': 12.95}\n"
     ]
    }
   ],
   "source": [
    "d = {\n",
    "    'one': 1,\n",
    "    2: 'two',\n",
    "    'three': 3,\n",
    "    'four': True,\n",
    "    'fifth': 12.95\n",
    "}\n",
    "\n",
    "print(d)"
   ]
  },
  {
   "attachments": {},
   "cell_type": "markdown",
   "metadata": {},
   "source": [
    "### Access dictionary items\n",
    "\n",
    "* get()\n",
    "* keys()\n",
    "* values()\n",
    "* items()"
   ]
  },
  {
   "cell_type": "code",
   "execution_count": 32,
   "metadata": {},
   "outputs": [
    {
     "name": "stdout",
     "output_type": "stream",
     "text": [
      "1\n"
     ]
    }
   ],
   "source": [
    "print(d.get('one'))"
   ]
  },
  {
   "cell_type": "code",
   "execution_count": 33,
   "metadata": {},
   "outputs": [
    {
     "data": {
      "text/plain": [
       "dict_keys(['one', 2, 'three', 'four', 'fifth'])"
      ]
     },
     "execution_count": 33,
     "metadata": {},
     "output_type": "execute_result"
    }
   ],
   "source": [
    "d.keys()"
   ]
  },
  {
   "cell_type": "code",
   "execution_count": 34,
   "metadata": {},
   "outputs": [
    {
     "data": {
      "text/plain": [
       "dict_values([1, 'two', 3, True, 12.95])"
      ]
     },
     "execution_count": 34,
     "metadata": {},
     "output_type": "execute_result"
    }
   ],
   "source": [
    "d.values()"
   ]
  },
  {
   "cell_type": "code",
   "execution_count": 35,
   "metadata": {},
   "outputs": [
    {
     "data": {
      "text/plain": [
       "dict_items([('one', 1), (2, 'two'), ('three', 3), ('four', True), ('fifth', 12.95)])"
      ]
     },
     "execution_count": 35,
     "metadata": {},
     "output_type": "execute_result"
    }
   ],
   "source": [
    "d.items()"
   ]
  },
  {
   "attachments": {},
   "cell_type": "markdown",
   "metadata": {},
   "source": [
    "### Change items\n",
    "\n",
    "* update()"
   ]
  },
  {
   "cell_type": "code",
   "execution_count": 36,
   "metadata": {},
   "outputs": [
    {
     "name": "stdout",
     "output_type": "stream",
     "text": [
      "{'one': 1, 2: 'two', 'three': 3, 'four': True, 'fifth': 12.95, 'new key': 'new value'}\n"
     ]
    }
   ],
   "source": [
    "d.update({'new key': 'new value'})\n",
    "print(d)"
   ]
  },
  {
   "cell_type": "code",
   "execution_count": 37,
   "metadata": {},
   "outputs": [
    {
     "name": "stdout",
     "output_type": "stream",
     "text": [
      "{'one': 1, 2: 'two', 'three': 3, 'four': True, 'fifth': 12.95, 'new key': 'a new value again'}\n"
     ]
    }
   ],
   "source": [
    "d['new key'] = 'a new value again'\n",
    "\n",
    "print(d)"
   ]
  },
  {
   "attachments": {},
   "cell_type": "markdown",
   "metadata": {},
   "source": [
    "### Remove item\n",
    "\n",
    "* pop()\n",
    "* clear()"
   ]
  },
  {
   "cell_type": "code",
   "execution_count": 38,
   "metadata": {},
   "outputs": [
    {
     "name": "stdout",
     "output_type": "stream",
     "text": [
      "{'one': 1, 2: 'two', 'three': 3, 'four': True, 'fifth': 12.95, 'new key': 'a new value again'}\n"
     ]
    }
   ],
   "source": [
    "print(d)"
   ]
  },
  {
   "cell_type": "code",
   "execution_count": 39,
   "metadata": {},
   "outputs": [
    {
     "name": "stdout",
     "output_type": "stream",
     "text": [
      "{2: 'two', 'three': 3, 'four': True, 'fifth': 12.95, 'new key': 'a new value again'}\n"
     ]
    }
   ],
   "source": [
    "d.pop('one')\n",
    "print(d)"
   ]
  },
  {
   "cell_type": "code",
   "execution_count": 40,
   "metadata": {},
   "outputs": [
    {
     "name": "stdout",
     "output_type": "stream",
     "text": [
      "{}\n"
     ]
    }
   ],
   "source": [
    "d.clear()\n",
    "print(d)"
   ]
  },
  {
   "attachments": {},
   "cell_type": "markdown",
   "metadata": {},
   "source": [
    "### Loop"
   ]
  },
  {
   "cell_type": "code",
   "execution_count": 41,
   "metadata": {},
   "outputs": [
    {
     "name": "stdout",
     "output_type": "stream",
     "text": [
      "{2: 'two', 'three': 3, 'four': True, 'fifth': 12.95, 'new key': 'a new value again'}\n"
     ]
    }
   ],
   "source": [
    "d = {2: 'two', 'three': 3, 'four': True, 'fifth': 12.95, 'new key': 'a new value again'}\n",
    "print(d)"
   ]
  },
  {
   "cell_type": "code",
   "execution_count": 43,
   "metadata": {},
   "outputs": [
    {
     "name": "stdout",
     "output_type": "stream",
     "text": [
      "two\n",
      "3\n",
      "True\n",
      "12.95\n",
      "a new value again\n"
     ]
    }
   ],
   "source": [
    "for item in d:\n",
    "    print(d[item])"
   ]
  },
  {
   "cell_type": "code",
   "execution_count": 44,
   "metadata": {},
   "outputs": [
    {
     "name": "stdout",
     "output_type": "stream",
     "text": [
      "2 two\n",
      "three 3\n",
      "four True\n",
      "fifth 12.95\n",
      "new key a new value again\n"
     ]
    }
   ],
   "source": [
    "for k, v in d.items():\n",
    "    print(k, v)"
   ]
  },
  {
   "attachments": {},
   "cell_type": "markdown",
   "metadata": {},
   "source": [
    "### Copy"
   ]
  },
  {
   "cell_type": "code",
   "execution_count": 46,
   "metadata": {},
   "outputs": [
    {
     "name": "stdout",
     "output_type": "stream",
     "text": [
      "{2: 'two', 'three': 3, 'four': True, 'fifth': 12.95, 'new key': 'a new value again'}\n"
     ]
    }
   ],
   "source": [
    "d1 = d.copy()\n",
    "print(d1)"
   ]
  },
  {
   "attachments": {},
   "cell_type": "markdown",
   "metadata": {},
   "source": [
    "### Nested dictionaries"
   ]
  },
  {
   "cell_type": "code",
   "execution_count": 47,
   "metadata": {},
   "outputs": [
    {
     "name": "stdout",
     "output_type": "stream",
     "text": [
      "{2: 'two', 'three': 3, 'four': True, 'fifth': 12.95, 'new key': 'a new value again'}\n"
     ]
    }
   ],
   "source": [
    "print(d)"
   ]
  },
  {
   "cell_type": "code",
   "execution_count": 48,
   "metadata": {},
   "outputs": [
    {
     "name": "stdout",
     "output_type": "stream",
     "text": [
      "{2: 'two', 'three': 3, 'four': True, 'fifth': 12.95, 'new key': 'a new value again', 'dict': {'key': 'value', 'new key': 'new value'}}\n"
     ]
    }
   ],
   "source": [
    "d['dict'] = {\n",
    "    'key': 'value',\n",
    "    'new key': 'new value'\n",
    "}\n",
    "\n",
    "print(d)"
   ]
  },
  {
   "attachments": {},
   "cell_type": "markdown",
   "metadata": {},
   "source": [
    "### Dictionary methods\n",
    "\n",
    "* clear() Removes all the elements from the dictionary\n",
    "* copy() Returns a copy of the dictionary\n",
    "* fromkeys() Returns a dictionary with the specified keys and value\n",
    "* get() Returns the value of the specified key\n",
    "* items() Returns a list containing a tuple for each key value pair\n",
    "* keys() Returns a list containing the dictionary's keys\n",
    "* pop() Removes the element with the specified key\n",
    "* popitem() Removes the last inserted key-value pair\n",
    "* setdefault() Returns the value of the specified key. If the key does not exist: insert the key, with the specified value\n",
    "* update() Updates the dictionary with the specified key-value pairs\n",
    "* values() Returns a list of all the values in the dictionary"
   ]
  },
  {
   "cell_type": "code",
   "execution_count": 49,
   "metadata": {},
   "outputs": [
    {
     "data": {
      "text/plain": [
       "{2: None, 'three': None}"
      ]
     },
     "execution_count": 49,
     "metadata": {},
     "output_type": "execute_result"
    }
   ],
   "source": [
    "d.fromkeys([2, 'three'])"
   ]
  },
  {
   "cell_type": "code",
   "execution_count": null,
   "metadata": {},
   "outputs": [],
   "source": []
  }
 ],
 "metadata": {
  "kernelspec": {
   "display_name": "Python 3",
   "language": "python",
   "name": "python3"
  },
  "language_info": {
   "codemirror_mode": {
    "name": "ipython",
    "version": 3
   },
   "file_extension": ".py",
   "mimetype": "text/x-python",
   "name": "python",
   "nbconvert_exporter": "python",
   "pygments_lexer": "ipython3",
   "version": "3.10.6"
  },
  "orig_nbformat": 4
 },
 "nbformat": 4,
 "nbformat_minor": 2
}
